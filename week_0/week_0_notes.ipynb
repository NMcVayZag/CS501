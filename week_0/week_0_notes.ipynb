{
 "cells": [
  {
   "cell_type": "markdown",
   "metadata": {},
   "source": [
    "## CS 501 WEEK 0 NOTES 1/7/25\n",
    "COMP SCI BASICS"
   ]
  },
  {
   "cell_type": "markdown",
   "metadata": {},
   "source": [
    "#### Compsci Overview\n",
    "- Algorithm = A set of steps or set of rules used to complete a specific task\n",
    "- Software code can often be broken down into 3 different programming structures:\n",
    "    * Sequences = series of actions performed in specific order until all have been completed (ordinally)\n",
    "    * Selections = ask a question or have criteria to decide what action to take next \n",
    "    * Loops = ask question over and over again until a specifc answer is reached or the no. of specified reptitions is exhausted\n",
    "#### Computer basics\n",
    "- Motherboard = hold computer resources like the cpu. Will have expansion slots for cards (like graphics cards) for upgrades.\n",
    "- CPU or central processing unit = the brain of the computer as it processes information and manipulates data and carries out commands. It tends to get hot so it is covered by a peice call a heat sink that draws away heat.\n",
    "- RAM = random access memory, serves as the short term memory resource that is used when performing calculations. Cannot store files as it is cleared when computer is turned off\n",
    "- Hard Drive = long term storage\n",
    "- GUI (\"goo-eey\")= graphical user interface\n",
    "#### Internet basics\n",
    "- A URL begins with a \"scheme\" which tells what kind of address it is.\n",
    "    * file = file URI Scheme\n",
    "    * ftp = file transfer protocol\n",
    "    * http = hypertext transfer protocol\n",
    "    * https = hypertext transfer protocol secure\n",
    "- following the scheme is the domain name that begins with a sub-domain like \"www\". The right most portion(.'s) is the top-level domain that may signal what type of site it is (ex .gov) or country/region specification \n",
    "- following the domain name is a file path that leads to a specific page.\n",
    "- A url also may have a parameter string(think queries) that often begins with a \"?\" to provide the sever with information on what page to pull up\n",
    "- A url might also have an anchor that is signaled with a \"#\" that directs you to a specific part of the webpage\n"
   ]
  },
  {
   "cell_type": "markdown",
   "metadata": {},
   "source": [
    "#### Decimal, Binary, Octal, & Hexadecimal\n",
    "- Decimal is a base 10 system. So it includes 10 digits 0-9.\n",
    "- Binary system is a base 2 system. Used by computers and digital circuits. 0= off, 1 = on\n",
    "- Octal number system is a base 8 system. Uses digits 0-7.\n",
    "- Hexadecimal (6+10) is a base 16 system. Uses 10 digits 0-9 and six letters where; A= 10, B= 11, C=12, D=13, E=14, F= 15.\n",
    "- Converting a decimal into other number systems is done using a process called \"successive division\"\n",
    "\n",
    "        example 348<sub>10</sub> / 2<sub>10</sub> = 174 R0  (decimal to binary) <- Least significant bit (LSB)\n",
    "              174/2 = 87 R0  \n",
    "              87/2 = 43 R1\n",
    "              43/2 = 21 R1\n",
    "              21/2 = 10 R1\n",
    "              10/2 = 5 R0\n",
    "              5/2 = 2 R1\n",
    "              2/2 = 1 R0\n",
    "              1/2 = 0 R1 <- Most significant bit (MSB)\n",
    "\n",
    "        by reading the remainder points from MSB to LSB you get the binary representation of 348<sub>10</sub> which is:\n",
    "        101011100\n",
    "- Converting a decimal(base10) into a octal\n",
    "\n",
    "        example 348/8 = 43.5 => 43 R4 (where; R = 0.5 * 8) <-LSB\n",
    "            43/8 = 5.375 => 5 R3\n",
    "            5/8 = 0 R5 <-MSB\n",
    "\n",
    "    therefore 348<sub>10</sub> = 534<sub>8</sub>\n",
    "- Converting a decimal to hexadecimal is done using that same process.\n",
    "\n",
    "\n",
    "\n",
    "\n"
   ]
  }
 ],
 "metadata": {
  "language_info": {
   "name": "python"
  }
 },
 "nbformat": 4,
 "nbformat_minor": 2
}
