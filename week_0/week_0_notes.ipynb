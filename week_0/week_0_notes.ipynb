{
 "cells": [
  {
   "cell_type": "markdown",
   "metadata": {},
   "source": [
    "## CS 501 WEEK 0 NOTES 1/7/25\n",
    "COMP SCI BASICS"
   ]
  },
  {
   "cell_type": "markdown",
   "metadata": {},
   "source": [
    "#### Compsci Overview\n",
    "- Algorithm = A set of steps or set of rules used to complete a specific task\n",
    "- Software code can often be broken down into 3 different programming structures:\n",
    "    * Sequences = series of actions performed in specific order until all have been completed (ordinally)\n",
    "    * Selections = ask a question or have criteria to decide what action to take next \n",
    "    * Loops = ask question over and over again until a specifc answer is reached or the no. of specified reptitions is exhausted\n",
    "#### Computer basics\n",
    "- Motherboard = hold computer resources like the cpu. Will have expansion slots for cards (like graphics cards) for upgrades.\n",
    "- CPU or central processing unit = the brain of the computer as it processes information and manipulates data and carries out commands. It tends to get hot so it is covered by a peice call a heat sink that draws away heat.\n",
    "- RAM = random access memory, serves as the short term memory resource that is used when performing calculations. Cannot store files as it is cleared when computer is turned off\n",
    "- Hard Drive = long term storage\n",
    "- GUI (\"goo-eey\")= graphical user interface\n",
    "#### Internet basics\n",
    "- \n",
    "\n",
    "\n"
   ]
  }
 ],
 "metadata": {
  "language_info": {
   "name": "python"
  }
 },
 "nbformat": 4,
 "nbformat_minor": 2
}
