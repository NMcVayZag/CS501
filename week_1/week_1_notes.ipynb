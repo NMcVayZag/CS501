{
 "cells": [
  {
   "cell_type": "markdown",
   "metadata": {},
   "source": [
    "#### Week 1 Lecture 1/9/25\n",
    "## JAVA\n",
    "- Submit everything as a pdf not word.doxc (obviously not code)\n",
    "- Everything runs in the main function\n",
    "- printing in java looks like: \"System.out.println(fahr + \"F is \" + cels + \" in C.\");\"\n",
    "\n",
    "- The main function must be declared as static for the following reasons:\n",
    "    * The main \"method\" serves as the **entry point** for any Java application, when you run a java program the jvm needs to know where to start executing the code - by making it static the jvm can call it directly without having to create an instance of the class that contains it.\n",
    "    * No object rquired => static methods belong to the class itself, not to any instance of the class. This means that the JVM can call the main method **before any objects of the class have been created**\n",
    "    * Memory efficiency => if the main method were not static then the JVM would have to create an object of the class just to call that method which is an unnessesary use of memory for small programs.\n"
   ]
  }
 ],
 "metadata": {
  "language_info": {
   "name": "python"
  }
 },
 "nbformat": 4,
 "nbformat_minor": 2
}
