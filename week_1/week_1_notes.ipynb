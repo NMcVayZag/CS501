{
 "cells": [
  {
   "cell_type": "markdown",
   "metadata": {},
   "source": [
    "#### Week 1 Lecture 1/9/25\n",
    "## JAVA\n",
    "- Submit everything as a pdf not word.doxc (obviously not code)\n",
    "- Everything runs in the main function\n",
    "- printing in java looks like: \"System.out.println(fahr + \"F is \" + cels + \" in C.\");\"\n"
   ]
  }
 ],
 "metadata": {
  "language_info": {
   "name": "python"
  }
 },
 "nbformat": 4,
 "nbformat_minor": 2
}
