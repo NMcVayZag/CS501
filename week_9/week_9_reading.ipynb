{
 "cells": [
  {
   "cell_type": "markdown",
   "metadata": {},
   "source": [
    "# Week 9 Reading: Collections (3/5/25)"
   ]
  },
  {
   "cell_type": "markdown",
   "metadata": {},
   "source": [
    "### Collections and Data Structures (Ch 13.1)\n",
    "- Collection:\n",
    "    - an object type that serves as a repository for other objects. Something you can add to, remove things, read from, or manage its contents\n",
    "- Separate interface from implementation\n",
    "    - underlying data structure that stores the objects can be implemented using various techniques. The ArrayList<object> collection type is implemented using an array in that all operations on arrayList are accomplished by invoking methods that perform appropriate operations on the underlying array.\n",
    "    - The LinkedList class also represents a list collection but its implementation doesn't use an array it relies on a data structure called a linked list.\n",
    "    - Abstract Data Type (ADT) == \"collection\":\n",
    "        - is a collection of data and the particular operations that are allowed on that data. ADT has a name, domain of values, and a set of operations that can be performed.\n",
    "        - An ADT is considered abstract because the operations you can perform on it are separated from the underlying implementation\n",
    "        - the details of how an ADT stores its data and accomplishes its methods are separate from the concept that it embodies\n",
    "### Dynamic Representations (Ch 13.2)\n",
    "- arrays are limited in one key way: they have a fixed size throughout their existence. The ArrayList overcomes this issue with its dynamic sizing.\n",
    "\n",
    "- Dynamic Structures:\n",
    "    - a dynamic data structure is implemented using links - using references as links between object we can create whatever type of structure is appropriate for the situation. If implemented correctly these structures can be quite efficient to search and modify. A dynamic structure grows and shrinks as needed\n",
    "- Dynamically linked list:\n",
    "    - A linked list works by storing objects that hold a variable \"next\" that is a reference to another object of that class type. Each object in the list will have a reference to another object except for the last object in the list where next reference is null. It is managed by by storing and updatying refernces to objects.\n",
    "    - Adding to a linked list:\n",
    "    - class MagazineList{\n",
    "        private MagazineNode list;\n",
    "        public MagazineList(){ //constructor\n",
    "            list = null;\n",
    "        }\n",
    "        public void add(Magazine mag){\n",
    "            MagazineNode = new MagazineNode(mag);\n",
    "            MagazineNode current;\n",
    "            \n",
    "            if(list == null){\n",
    "                list = node;\n",
    "            }else{\n",
    "                current = list;\n",
    "                while(current.next != null) // moving through each objects reference until there is no reference(null) and then assigns this node as the reference(a MagazineNode constructed with a \n",
    "                    current = current.next;) //next reference of null\n",
    "                current.next = node;\n",
    "            }\n",
    "        }\n",
    "    }\n",
    "    - DOUBLY LINKED LIST: Another implementation of a linked list is a doubly linked list where every object in the list not only has a reference pointing to the next node in the list but also a reference the previous node in the list.\n",
    "    - Other implementations of a linked list could also include a healer node that has a reference to the front and back nodes in the list that could let you add to the list in a more simple manner and be able to count the amount of nodes in the list\n",
    "        -ex: class ListHeader{\n",
    "            int count;\n",
    "            Node front, rear;\n",
    "        }\n",
    "\n",
    "### Linear Collections (Ch 13.3)\n",
    "- Queues\n",
    "    - a queue is similar to a list except that it has restrictions on the way you put items in and take items out. Specifically, a queue uses first-in, first-out (FIFO) processing. That is, the first item put in the list is the first item that comes out - however the line is not moving and elements are not leaving the start of the line is moving through the list.\n",
    "    - a queue data structure usually has the following operations\n",
    "        - enqueue - adds an item to the rear of the queue\n",
    "        - dequeue - removes and item from the front of the queue\n",
    "        - empty - returns true if the queue is empty\n",
    "- Stacks\n",
    "    - a stack is similar to a queue except that its elements go on and come off at the same end. The last item to go on a stack is the first one to come off like a stack of plates in a cuperboard in a last in first out manner.FIFO\n",
    "    - A typical stack ADT contains the following operations\n",
    "        - push - pushes an item onto the top of the stack\n",
    "        - pop - removes an item from the top of the stack\n",
    "        - peek - retrieves information from the top of the stack WITHOUT removing it\n",
    "        - empty - returns true if the stack is empty\n",
    "    - search is a Stack class method  that returns an integer corresponding to the postion in the stack of the particular object\n",
    "\n"
   ]
  },
  {
   "cell_type": "markdown",
   "metadata": {},
   "source": [
    "# Lecture Notes 3/10/25"
   ]
  },
  {
   "cell_type": "markdown",
   "metadata": {},
   "source": [
    "- you can think of a linked list as a line of people outside a coffee shop. Each person in the list only knows who is infront of them(pointing to them) and if your in front of the line then nobody is infront of you (pointing to null)\"NULL\".\n",
    "- ARRAYLIST OR LINKEDLIST:\n",
    "    - in your program if your are typically adding elements to the beggining of a collection then it would be more efficient to utilize a linked list vs. if you are typically appending to the end of a collection then you would want to use an ArrayList."
   ]
  }
 ],
 "metadata": {
  "language_info": {
   "name": "python"
  }
 },
 "nbformat": 4,
 "nbformat_minor": 2
}
