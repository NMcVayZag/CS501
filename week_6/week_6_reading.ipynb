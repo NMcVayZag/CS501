{
 "cells": [
  {
   "cell_type": "markdown",
   "metadata": {},
   "source": [
    "# Week 6 Reading (2/11/25) : Chapter 8 ARRAYS\n"
   ]
  },
  {
   "cell_type": "markdown",
   "metadata": {},
   "source": [
    "### Array Elements (Ch 8.1)\n",
    "- An Array is a programming construct used to group and organize data - a list of values. *In java Arrays are objects*\n",
    "- Difference from ArrayList\n",
    "    1- an array size is set when declared and cannot be changed thereafter whereas an ArrayList's size is dynamic.\n",
    "    2- an array can store any primitive types dirrectly and can also hold objects where as an ArrayList needs to be composed of objects or wrapper classes (ex.String)\n",
    "    3- since arrays have static size they're slightly more efficient than ArrayLists\n",
    "\n",
    "### Declaring and Using Arrays (Ch 8.2)\n",
    "- Object status\n",
    "    - in Java arrays are objects and must be constructed.\n",
    "- Bounds Checking\n",
    "    - Java automatically performs bounds checking which ensures that the index is in the range for the array being referenced. it is common to get off-by-one errors when referenencing indexes since they go from 0 to size of array-1.\n",
    "- Alternate Array Syntax\n",
    "    - these two methods are equivalent\n",
    "        - string students[]:\n",
    "        - string[] students:\n",
    "- Initializer lists\n",
    "    - you can use an initializer list to instantiate an array and provide the initial values for the elements of the array.\n",
    "        - ex: int primeNums = {2,3,5,7}\n",
    "- Arrays as parameters\n",
    "    - an entire array can be passed into a method as a parameter. Since it is an object it can be modified by that method since we are sending in a reference not a copy\n",
    "### Arrays as Objects (Ch 8.3)\n",
    "- Memory implications\n",
    "    - An array of objects is an object that holds references to other objects\n",
    "### mCommand Line Arguments (Ch 8.4)\n",
    "- Command-line arguments are stored in an array of String objects and are passed to the main method\n",
    "- Useful for…\n",
    "    - for feeding in information for the program to the main function throught the array \"Args\".\n",
    "### Variable Length Parameter Lists (Ch 8.5)\n",
    "- Useful for… \n",
    "    - In the case that we want a method to accept and process different amounts of data per invocation - instead of creating an array to feed in we can use a prebuild java strat - java lets us define methods that except variabl-length parameter lists. So that no matter the no. of parameters they are fed into a array we can reference\n",
    "        - ex: public double average(int ... list){}\n",
    "        - the ellipsis or three dots let the interpreter know that size of list is dynamic to its invocation.\n",
    "### Two-dimensional arrays (Ch 8.6)\n",
    "\tUseful for… data that needs to be represented as rows and collumns - need to use double indexing to get values students[0][2] (get third element from row 1)\n",
    "- Multi-dimensional arrays\n",
    "    - an array can have many dimensions- that can be iterated through by nested for-looping.\n"
   ]
  }
 ],
 "metadata": {
  "language_info": {
   "name": "python"
  }
 },
 "nbformat": 4,
 "nbformat_minor": 2
}
