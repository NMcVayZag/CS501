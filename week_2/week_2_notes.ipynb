{
 "cells": [
  {
   "cell_type": "markdown",
   "metadata": {},
   "source": [
    "# Week 2 Lecture/Notes (1/17/25)"
   ]
  },
  {
   "cell_type": "markdown",
   "metadata": {},
   "source": [
    "## Lecture: Using Classes\n",
    "- Primative Types: (NOT OBJECTS)\n",
    "    - byte (8bits)\n",
    "    - short (16bits)\n",
    "    - int (32bits)*\n",
    "    - long (64bits)\n",
    "    - float (32bits)\n",
    "    - double (64bits)*\n",
    "    - char (16bits)*\n",
    "    - boolean (1bit)*\n",
    "    \n",
    "- Assigning one primitive_variable_1 to primitive_variable_2 simply assigns the value of p_v_2 to p_v_1 - it doesn't serve as a reference a memory address\n",
    "- Objects use memory differntly in that they don't just hold stored data in the variable; an object stores a reference to a memory address that holds the data\n",
    "- "
   ]
  }
 ],
 "metadata": {
  "language_info": {
   "name": "python"
  }
 },
 "nbformat": 4,
 "nbformat_minor": 2
}
