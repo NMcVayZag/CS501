{
 "cells": [
  {
   "cell_type": "markdown",
   "metadata": {},
   "source": [
    "# Final Review"
   ]
  },
  {
   "cell_type": "markdown",
   "metadata": {},
   "source": [
    "- you cannot create a instance of abstract class\n",
    "- an abstract method means that every child of parent class must implement the class.\n",
    "- combining and splitting linked lists is far more efficient then combining and splitting arrays because that would take many operations whereas with a linked list you can just take the pointer to the tail and change from null to the head of the other list or vice versa.\n",
    "- must follow principle of least priviledge where you want to restrict access where it is not neccessary.\n",
    "- when creating variables inside brackets they are local to those brackets - do not exist outside of it.\n",
    "- BIG O examples:\n",
    "    - O(n^2) insertion sort, selection sort, (2 nested for loops)\n",
    "    - O(n) - linear search, while loop, for loop\n",
    "    - O(log n) - binary search\n",
    "    - O(n^3) - 3 nested for loops, matrix multiplication.\n",
    "- Integer score1 = 72;\n",
    "    - score1 is an object reference given that Integer is a wrapper class\n",
    "- int score2 = 85;\n",
    "    - simply storing value 85\n",
    "- Character grade = 'C';\n",
    "    - Character is a wrapper class so its an object reference"
   ]
  }
 ],
 "metadata": {
  "language_info": {
   "name": "python"
  }
 },
 "nbformat": 4,
 "nbformat_minor": 2
}
